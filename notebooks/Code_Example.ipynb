{
 "cells": [
  {
   "cell_type": "markdown",
   "id": "60cc088b",
   "metadata": {},
   "source": [
    "Import the Essential Libraries for Our Tool"
   ]
  },
  {
   "cell_type": "code",
   "execution_count": 27,
   "id": "8db01df1",
   "metadata": {},
   "outputs": [],
   "source": [
    "import mpmath as mpmath\n",
    "import numpy as np\n",
    "import matplotlib.pyplot as plt\n",
    "from scipy.special import iv, kv  # import the modified first kind (iv) and second kind (kv) from scipy"
   ]
  },
  {
   "cell_type": "markdown",
   "id": "41dd0e08",
   "metadata": {},
   "source": [
    "We can define the step function to represent the equation below, but this is not necessarily for our goal since we are only working the approximation\n",
    "$$\\frac{\\theta(\\Omega - \\Omega_{thr})}{\\sqrt{\\Omega-\\Omega_{thr}}} f(\\Omega)$$ \n",
    "Essentially, this function takes in two parameters and will return values as a piecewise function\n",
    "\n",
    "$$\\theta(\\Omega - \\Omega_{thr}) = \\begin{cases} \n",
    "      1 & \\Omega - \\Omega_{thr} > 0 \\\\\n",
    "      0 & \\Omega - \\Omega_{thr}\\leq 0  \n",
    "   \\end{cases}$$\n"
   ]
  },
  {
   "cell_type": "code",
   "execution_count": 28,
   "id": "1bbe95dd",
   "metadata": {},
   "outputs": [],
   "source": [
    "def theta(omega_cap, omega_cap_thr, f = lambda r,r_prime:  r - r_prime):\n",
    "    return 1 if f(omega_cap,omega_cap_thr) > 0 else 0"
   ]
  },
  {
   "cell_type": "markdown",
   "id": "6fac474a",
   "metadata": {},
   "source": [
    "Since our step functions only need to take in one variable for the approximation, let's define the function\n",
    "$$\\theta(\\omega) = \\begin{cases} \n",
    "      1 & \\omega > 0 \\\\\n",
    "      0 & \\omega \\leq 0  \n",
    "   \\end{cases}$$"
   ]
  },
  {
   "cell_type": "code",
   "execution_count": 29,
   "id": "f3572213",
   "metadata": {},
   "outputs": [],
   "source": [
    "def theta(omega):\n",
    "    return 1 if omega > 0 else 0 "
   ]
  },
  {
   "cell_type": "markdown",
   "id": "9ca1e621",
   "metadata": {},
   "source": [
    "\n",
    "Here is the main part which we will define the smooth operator\n",
    "\n",
    "$$\\sqrt{\\frac{\\pi |\\omega|}{8\\gamma}} e^{\\frac{-\\omega^2}{4}}\n",
    "    \\left\\{\n",
    "    \\theta (\\omega) \\left[ I_{-1/4}\\left(\\frac{\\omega^2}{4}\\right) + I_{1/4}\\left(\\frac{\\omega^2}{4}\\right)+ \\frac{\\sqrt{2}}{\\pi}\\theta (-\\omega) K_{1/4}\\left( \\frac{\\omega^2}{4} \\right)\n",
    "    \\right]\n",
    "    \\right\\} $$\n",
    "Which will act on the smotth function $$f(\\Omega_{thr})$$\n",
    "to give a new value $$f^{'}(\\Omega_{thr})$$"
   ]
  },
  {
   "cell_type": "code",
   "execution_count": 30,
   "id": "e4cde59c",
   "metadata": {},
   "outputs": [],
   "source": [
    "def smooth_operator(omega_cap_through, smooth_func, tau = 1): # the width of quasiparticle is at default 1, but we can change it\n",
    "    #new_dict = {} # Creating a dictionary to store\n",
    "    y_new = []\n",
    "    i = 0\n",
    "    x_values, y_values = list(smooth_func.keys()), list(smooth_func.values()) # unpack the values from the data\n",
    "    for omega_cap in x_values:\n",
    "        omega = (omega_cap-omega_cap_through)/tau # define the dimensionless parameter\n",
    "        prop = np.sqrt((np.pi * abs(omega))/(8*tau)) \\\n",
    "               * np.exp(-(omega**2)/4)  # define the term outside of curly bracket\n",
    "        i_terms = iv(-.25, (omega**2)/4) + iv(.25, (omega**2)/4) # define the addition of two firt kind of order 1/4 and -1/4\n",
    "        k_terms = (np.sqrt(2)/np.pi)*theta(-omega)*kv(.25,(omega**2)/4) # define the term including second kind of order 1/4\n",
    "        y_new.append(prop*(i_terms+k_terms)*y_values[i]) # add the new value to the list\n",
    "        i+=1\n",
    "    return y_new # return the list of new values "
   ]
  },
  {
   "cell_type": "markdown",
   "id": "3353581d",
   "metadata": {},
   "source": [
    "This is great because we now have the transformed values. Let's plot them to see what happens. Our task is pretty done, but let me create a test function"
   ]
  },
  {
   "cell_type": "code",
   "execution_count": 31,
   "id": "9dd3e35f",
   "metadata": {},
   "outputs": [],
   "source": [
    "sin_func = {x:np.sin(x) for x in np.linspace(0.0001, 10, 1000)}"
   ]
  },
  {
   "cell_type": "markdown",
   "id": "104ef779",
   "metadata": {},
   "source": [
    "Let see how the our operator corrects the sin function, but we need to choose the width of quasiparticle and the point of correction. "
   ]
  },
  {
   "cell_type": "code",
   "execution_count": 32,
   "id": "34134770",
   "metadata": {},
   "outputs": [
    {
     "name": "stderr",
     "output_type": "stream",
     "text": [
      "/var/folders/py/321_f5qd08j580pct3tvllph0000gn/T/ipykernel_35460/1018476763.py:11: RuntimeWarning: invalid value encountered in double_scalars\n",
      "  k_terms = (np.sqrt(2)/np.pi)*theta(-omega)*kv(.25,(omega**2)/4) # define the term including second kind of order 1/4\n"
     ]
    }
   ],
   "source": [
    "y_modified = smooth_operator(3.013082882882883, sin_func, .5)\n",
    "lists = sorted(sin_func.items())\n",
    "x_comp_2, y_comp_2 = zip(*lists)"
   ]
  },
  {
   "cell_type": "markdown",
   "id": "146a05cd",
   "metadata": {},
   "source": [
    "We now have all the values that we need. Let's plot them!"
   ]
  },
  {
   "cell_type": "code",
   "execution_count": 33,
   "id": "a87c5fc2",
   "metadata": {},
   "outputs": [
    {
     "data": {
      "image/png": "[encoded data removed]",
      "text/plain": [
       "<Figure size 432x288 with 1 Axes>"
      ]
     },
     "metadata": {
      "needs_background": "light"
     },
     "output_type": "display_data"
    }
   ],
   "source": [
    "plt.plot(x_comp_2, y_modified, label = \"Correction\")\n",
    "plt.plot(x_comp_2,y_comp_2, label = \"Tested function\")\n",
    "plt.ylim(-1, 2)\n",
    "plt.legend()\n",
    "plt.title(r'Modified Bessel Function of the Tested Function')\n",
    "plt.show()"
   ]
  },
  {
   "cell_type": "markdown",
   "id": "c1486f2d",
   "metadata": {},
   "source": [
    "One current problem is that at the point of correction, the function becomes discrete. "
   ]
  }
 ],
 "metadata": {
  "kernelspec": {
   "display_name": "Python 3 (ipykernel)",
   "language": "python",
   "name": "python3"
  },
  "language_info": {
   "codemirror_mode": {
    "name": "ipython",
    "version": 3
   },
   "file_extension": ".py",
   "mimetype": "text/x-python",
   "name": "python",
   "nbconvert_exporter": "python",
   "pygments_lexer": "ipython3",
   "version": "3.9.1"
  }
 },
 "nbformat": 4,
 "nbformat_minor": 5
}
